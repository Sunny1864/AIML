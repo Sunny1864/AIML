{
  "nbformat": 4,
  "nbformat_minor": 0,
  "metadata": {
    "colab": {
      "provenance": [],
      "authorship_tag": "ABX9TyPSh4o4F3oqk8P6eGGuBtMG",
      "include_colab_link": true
    },
    "kernelspec": {
      "name": "python3",
      "display_name": "Python 3"
    },
    "language_info": {
      "name": "python"
    }
  },
  "cells": [
    {
      "cell_type": "markdown",
      "metadata": {
        "id": "view-in-github",
        "colab_type": "text"
      },
      "source": [
        "<a href=\"https://colab.research.google.com/github/Sunny1864/AIML/blob/main/lab%20exam(18%20ques).ipynb\" target=\"_parent\"><img src=\"https://colab.research.google.com/assets/colab-badge.svg\" alt=\"Open In Colab\"/></a>"
      ]
    },
    {
      "cell_type": "code",
      "execution_count": 1,
      "metadata": {
        "id": "-LchJxDE3xAl"
      },
      "outputs": [],
      "source": [
        "# Import necessary libraries\n",
        "import pandas as pd\n",
        "import numpy as np\n",
        "import matplotlib.pyplot as plt\n",
        "import seaborn as sns\n",
        "from sklearn.model_selection import train_test_split\n",
        "from sklearn.ensemble import RandomForestClassifier\n",
        "from sklearn.metrics import accuracy_score, classification_report, confusion_matrix\n"
      ]
    },
    {
      "cell_type": "code",
      "source": [
        "# Load the dataset (adjust filename if necessary)\n",
        "file_path = \"/content/name_gender_dataset.csv\"  # Replace with your dataset path\n",
        "data = pd.read_csv(file_path)\n"
      ],
      "metadata": {
        "id": "UGAJ41094QjM"
      },
      "execution_count": 2,
      "outputs": []
    },
    {
      "cell_type": "code",
      "source": [
        "# Explore the dataset\n",
        "print(data.head())\n",
        "print(data.info())\n",
        "print(data.describe())\n"
      ],
      "metadata": {
        "colab": {
          "base_uri": "https://localhost:8080/"
        },
        "id": "i1Rbq9of4Qeu",
        "outputId": "8105ddf2-75d5-4879-e03a-9034da42f050"
      },
      "execution_count": 5,
      "outputs": [
        {
          "output_type": "stream",
          "name": "stdout",
          "text": [
            "      Name Gender    Count  Probability\n",
            "0    James      M  5304407     0.014517\n",
            "1     John      M  5260831     0.014398\n",
            "2   Robert      M  4970386     0.013603\n",
            "3  Michael      M  4579950     0.012534\n",
            "4  William      M  4226608     0.011567\n",
            "<class 'pandas.core.frame.DataFrame'>\n",
            "RangeIndex: 147269 entries, 0 to 147268\n",
            "Data columns (total 4 columns):\n",
            " #   Column       Non-Null Count   Dtype  \n",
            "---  ------       --------------   -----  \n",
            " 0   Name         147269 non-null  object \n",
            " 1   Gender       147269 non-null  object \n",
            " 2   Count        147269 non-null  int64  \n",
            " 3   Probability  147269 non-null  float64\n",
            "dtypes: float64(1), int64(1), object(2)\n",
            "memory usage: 4.5+ MB\n",
            "None\n",
            "              Count   Probability\n",
            "count  1.472690e+05  1.472690e+05\n",
            "mean   2.481161e+03  6.790295e-06\n",
            "std    4.645472e+04  1.271345e-04\n",
            "min    1.000000e+00  2.736740e-09\n",
            "25%    5.000000e+00  1.368370e-08\n",
            "50%    1.700000e+01  4.652460e-08\n",
            "75%    1.320000e+02  3.612500e-07\n",
            "max    5.304407e+06  1.451679e-02\n"
          ]
        }
      ]
    },
    {
      "cell_type": "code",
      "source": [
        "# Ensure relevant columns exist ('Name', 'Gender', 'Count')\n",
        "assert all(col in data.columns for col in ['Name', 'Gender', 'Count'])\n",
        "\n"
      ],
      "metadata": {
        "id": "JWfoO4Yu4QdW"
      },
      "execution_count": 9,
      "outputs": []
    },
    {
      "cell_type": "code",
      "source": [
        "# Q1: Identify the Top-10 popular names\n",
        "top_10_names = data.groupby('Name')['Count'].sum().nlargest(10)\n",
        "print(\"Top 10 Popular Names:\\n\", top_10_names)\n",
        "\n"
      ],
      "metadata": {
        "colab": {
          "base_uri": "https://localhost:8080/"
        },
        "id": "bpZt-MDx4QYl",
        "outputId": "ed88d6be-45f9-4923-a738-6b327d8ff6d2"
      },
      "execution_count": 10,
      "outputs": [
        {
          "output_type": "stream",
          "name": "stdout",
          "text": [
            "Top 10 Popular Names:\n",
            " Name\n",
            "James      5328370\n",
            "John       5282978\n",
            "Robert     4990971\n",
            "Michael    4602810\n",
            "William    4242917\n",
            "Mary       4184969\n",
            "David      3801028\n",
            "Joseph     2707061\n",
            "Richard    2647959\n",
            "Charles    2446151\n",
            "Name: Count, dtype: int64\n"
          ]
        }
      ]
    },
    {
      "cell_type": "code",
      "source": [
        "# Q2: Find the Max and Min count of babies with similar names\n",
        "max_count = data['Count'].max()\n",
        "min_count = data['Count'].min()\n",
        "print(\"Max Count:\", max_count, \"| Min Count:\", min_count)\n"
      ],
      "metadata": {
        "colab": {
          "base_uri": "https://localhost:8080/"
        },
        "id": "Eljcu4oa4QWB",
        "outputId": "22db8aed-09b1-493f-94c4-dd2ee0a1f51d"
      },
      "execution_count": 11,
      "outputs": [
        {
          "output_type": "stream",
          "name": "stdout",
          "text": [
            "Max Count: 5304407 | Min Count: 1\n"
          ]
        }
      ]
    },
    {
      "cell_type": "code",
      "source": [
        "# Q3: Name the gender which has acquired the most names\n",
        "gender_count = data.groupby('Gender')['Name'].count()\n",
        "dominant_gender = gender_count.idxmax()\n",
        "print(\"Gender with most names:\", dominant_gender)\n",
        "\n"
      ],
      "metadata": {
        "colab": {
          "base_uri": "https://localhost:8080/"
        },
        "id": "zov8QECT4QRN",
        "outputId": "624de0e7-785e-4dd4-cd7a-110a083f62be"
      },
      "execution_count": 12,
      "outputs": [
        {
          "output_type": "stream",
          "name": "stdout",
          "text": [
            "Gender with most names: F\n"
          ]
        }
      ]
    },
    {
      "cell_type": "code",
      "source": [
        "# Q4: Identify the Top-5 probabilities of occurrence of Male and Female babies\n",
        "gender_probabilities = data.groupby('Gender')['Count'].sum() / data['Count'].sum()\n",
        "print(\"Gender Probabilities:\\n\", gender_probabilities)\n",
        "\n"
      ],
      "metadata": {
        "colab": {
          "base_uri": "https://localhost:8080/"
        },
        "id": "bfznm_4M4QFW",
        "outputId": "bda6b1a0-0502-48b8-ccfd-3da7ea289b9c"
      },
      "execution_count": 13,
      "outputs": [
        {
          "output_type": "stream",
          "name": "stdout",
          "text": [
            "Gender Probabilities:\n",
            " Gender\n",
            "F    0.494319\n",
            "M    0.505681\n",
            "Name: Count, dtype: float64\n"
          ]
        }
      ]
    },
    {
      "cell_type": "code",
      "source": [
        "# Q5: Name the Top-5 names with highest probabilities\n",
        "data['Probability'] = data['Count'] / data.groupby('Name')['Count'].transform('sum')\n",
        "top_5_probable_names = data.groupby('Name')['Probability'].mean().nlargest(5)\n",
        "print(\"Top-5 Names by Probability:\\n\", top_5_probable_names)\n",
        "\n"
      ],
      "metadata": {
        "colab": {
          "base_uri": "https://localhost:8080/"
        },
        "id": "V7VJfAKf5AjV",
        "outputId": "9e6fb292-f4f7-400e-8692-91b7bc9945f4"
      },
      "execution_count": 14,
      "outputs": [
        {
          "output_type": "stream",
          "name": "stdout",
          "text": [
            "Top-5 Names by Probability:\n",
            " Name\n",
            "A'Aff      1.0\n",
            "A'Aron     1.0\n",
            "A'Dele     1.0\n",
            "A'Isha     1.0\n",
            "A'Ishah    1.0\n",
            "Name: Probability, dtype: float64\n"
          ]
        }
      ]
    },
    {
      "cell_type": "code",
      "source": [
        "# Q6: Classification Model to predict Gender based on Name features\n",
        "# Feature Engineering: Convert names into features using character-level counts\n",
        "def name_features(name):\n",
        "    # Pad shorter names with 0 to ensure consistent length\n",
        "    features = [ord(char) for char in name[:10]]\n",
        "    features += [0] * (10 - len(features))  # Pad with 0s for shorter names\n",
        "    return features\n",
        "\n",
        "data['Name_Features'] = data['Name'].apply(name_features)\n",
        "features = np.array(data['Name_Features'].tolist())\n",
        "labels = data['Gender'].map({'Male': 1, 'Female': 0})  # Encode Gender\n"
      ],
      "metadata": {
        "id": "BXW6yf8v5Af9"
      },
      "execution_count": 15,
      "outputs": []
    },
    {
      "cell_type": "code",
      "source": [
        "# Remove rows where 'Gender' is missing\n",
        "data = data.dropna(subset=['Gender'])\n",
        "\n"
      ],
      "metadata": {
        "id": "xNkEfK4r5AaK"
      },
      "execution_count": 26,
      "outputs": []
    },
    {
      "cell_type": "code",
      "source": [
        "from sklearn.impute import SimpleImputer\n",
        "\n",
        "# Create an imputer to replace missing values with the most frequent value in 'Gender'\n",
        "imputer = SimpleImputer(strategy='most_frequent')\n",
        "\n",
        "# Apply the imputer to the 'Gender' column and convert the result back to a DataFrame\n",
        "data['Gender'] = imputer.fit_transform(data[['Gender']]).flatten()\n",
        "\n"
      ],
      "metadata": {
        "id": "QI5U51St7HaZ"
      },
      "execution_count": 30,
      "outputs": []
    },
    {
      "cell_type": "code",
      "source": [
        "# Recreate features and labels after handling missing values\n",
        "features = np.array(data['Name_Features'].tolist())\n",
        "labels = data['Gender'].map({'Male': 1, 'Female': 0})\n"
      ],
      "metadata": {
        "id": "2QEZTU4g5AYG"
      },
      "execution_count": 20,
      "outputs": []
    },
    {
      "cell_type": "code",
      "source": [
        "# Import necessary libraries\n",
        "from sklearn.model_selection import train_test_split\n",
        "from sklearn.ensemble import RandomForestClassifier"
      ],
      "metadata": {
        "id": "Ui29W8vg7fjH"
      },
      "execution_count": 33,
      "outputs": []
    },
    {
      "cell_type": "code",
      "source": [
        "# Assume features and labels are already defined\n",
        "# Example:\n",
        "# features = data.drop('target_column', axis=1)  # All columns except the target\n",
        "# labels = data['target_column']  # The column you are trying to predict\n",
        "\n",
        "# Split the data into training and testing sets\n",
        "X_train, X_test, y_train, y_test = train_test_split(features, labels, test_size=0.2, random_state=42)\n"
      ],
      "metadata": {
        "id": "wUy00Ul47jtm"
      },
      "execution_count": 34,
      "outputs": []
    },
    {
      "cell_type": "code",
      "source": [
        "# Train a Random Forest Classifier\n",
        "model = RandomForestClassifier(random_state=42)  # It's good practice to set a random_state for reproducibility\n",
        "model.fit(X_train, y_train)\n",
        "\n",
        "# You can then use model.predict(X_test) to make predictions on the test set"
      ],
      "metadata": {
        "id": "aNHb3uaQ8I1a"
      },
      "execution_count": null,
      "outputs": []
    },
    {
      "cell_type": "code",
      "source": [
        "# Evaluate the model\n",
        "y_pred = model.predict(X_test)\n",
        "accuracy = accuracy_score(y_test, y_pred)\n",
        "print(\"Accuracy:\", accuracy)\n",
        "print(\"Classification Report:\\n\", classification_report(y_test, y_pred))"
      ],
      "metadata": {
        "id": "VPqU7Ofe9b5j"
      },
      "execution_count": null,
      "outputs": []
    },
    {
      "cell_type": "code",
      "source": [
        "# Import necessary libraries\n",
        "import seaborn as sns\n",
        "import matplotlib.pyplot as plt\n",
        "from sklearn.metrics import confusion_matrix"
      ],
      "metadata": {
        "id": "uaR8SxPk6tOO"
      },
      "execution_count": 42,
      "outputs": []
    },
    {
      "cell_type": "code",
      "source": [
        "# Confusion Matrix\n",
        "conf_matrix = confusion_matrix(y_test, y_pred)\n",
        "sns.heatmap(conf_matrix, annot=True, fmt='d', cmap='Blues', xticklabels=['Female', 'Male'], yticklabels=['Female', 'Male'])\n",
        "plt.title(\"Confusion Matrix\")\n",
        "plt.xlabel(\"Predicted\")\n",
        "plt.ylabel(\"Actual\")\n",
        "plt.show()"
      ],
      "metadata": {
        "id": "rFHUzVOS90QM"
      },
      "execution_count": null,
      "outputs": []
    }
  ]
}